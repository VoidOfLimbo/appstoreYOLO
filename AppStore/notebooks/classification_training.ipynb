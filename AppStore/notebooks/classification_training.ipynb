{
 "cells": [
  {
   "cell_type": "markdown",
   "id": "84364bb9",
   "metadata": {},
   "source": [
    "# YOLOv8 Image Classification Training\n",
    "\n",
    "This notebook demonstrates how to train and fine-tune YOLOv8 classification models.\n",
    "\n",
    "## Requirements\n",
    "- ultralytics\n",
    "- PyTorch with CUDA support\n",
    "- Custom image classification dataset"
   ]
  },
  {
   "cell_type": "code",
   "execution_count": null,
   "id": "43d48e78",
   "metadata": {},
   "outputs": [],
   "source": [
    "# Import required libraries\n",
    "from ultralytics import YOLO\n",
    "import torch\n",
    "import cv2\n",
    "import matplotlib.pyplot as plt\n",
    "from pathlib import Path\n",
    "import numpy as np\n",
    "\n",
    "print(f\"PyTorch version: {torch.__version__}\")\n",
    "print(f\"CUDA available: {torch.cuda.is_available()}\")\n",
    "if torch.cuda.is_available():\n",
    "    print(f\"CUDA version: {torch.version.cuda}\")\n",
    "    print(f\"GPU: {torch.cuda.get_device_name(0)}\")"
   ]
  },
  {
   "cell_type": "markdown",
   "id": "7d5fc8d8",
   "metadata": {},
   "source": [
    "## 1. Load Pre-trained Classification Model\n",
    "\n",
    "YOLOv8 classification models:\n",
    "- `yolov8n-cls.pt` - Nano (fastest)\n",
    "- `yolov8s-cls.pt` - Small\n",
    "- `yolov8m-cls.pt` - Medium\n",
    "- `yolov8l-cls.pt` - Large\n",
    "- `yolov8x-cls.pt` - Extra Large"
   ]
  },
  {
   "cell_type": "code",
   "execution_count": null,
   "id": "994cc54b",
   "metadata": {},
   "outputs": [],
   "source": [
    "# Load a pre-trained classification model\n",
    "model_path = '../models/classification/yolo/yolov8s-cls.pt'\n",
    "model = YOLO(model_path)\n",
    "\n",
    "print(f\"Model loaded: {model_path}\")\n",
    "print(f\"Model task: {model.task}\")"
   ]
  },
  {
   "cell_type": "markdown",
   "id": "9096c3fa",
   "metadata": {},
   "source": [
    "## 2. Prepare Classification Dataset\n",
    "\n",
    "Dataset structure for classification:\n",
    "```\n",
    "dataset/\n",
    "├── train/\n",
    "│   ├── class1/\n",
    "│   │   ├── img1.jpg\n",
    "│   │   └── img2.jpg\n",
    "│   └── class2/\n",
    "│       ├── img1.jpg\n",
    "│       └── img2.jpg\n",
    "└── val/\n",
    "    ├── class1/\n",
    "    └── class2/\n",
    "```\n",
    "\n",
    "Each class has its own folder with images."
   ]
  },
  {
   "cell_type": "code",
   "execution_count": null,
   "id": "16d01c0d",
   "metadata": {},
   "outputs": [],
   "source": [
    "# Example: Dataset configuration\n",
    "dataset_info = \"\"\"\n",
    "Classification Dataset Structure:\n",
    "\n",
    "1. Create a root directory for your dataset\n",
    "2. Inside, create 'train' and 'val' folders\n",
    "3. Inside each folder, create a subfolder for each class\n",
    "4. Place images in their respective class folders\n",
    "\n",
    "Example for 3-class problem:\n",
    "dataset/\n",
    "├── train/\n",
    "│   ├── cats/       (100 images)\n",
    "│   ├── dogs/       (100 images)\n",
    "│   └── birds/      (100 images)\n",
    "└── val/\n",
    "    ├── cats/       (20 images)\n",
    "    ├── dogs/       (20 images)\n",
    "    └── birds/      (20 images)\n",
    "\"\"\"\n",
    "\n",
    "print(dataset_info)"
   ]
  },
  {
   "cell_type": "markdown",
   "id": "6fc8407c",
   "metadata": {},
   "source": [
    "## 3. Train Classification Model\n",
    "\n",
    "Configure and start training."
   ]
  },
  {
   "cell_type": "code",
   "execution_count": null,
   "id": "5689a0be",
   "metadata": {},
   "outputs": [],
   "source": [
    "# Training configuration for classification\n",
    "training_params = {\n",
    "    'data': 'path/to/dataset',  # path to dataset root\n",
    "    'epochs': 100,\n",
    "    'imgsz': 224,  # image size (224 is standard for classification)\n",
    "    'batch': 32,\n",
    "    'device': 0,  # GPU device\n",
    "    'workers': 8,\n",
    "    'project': 'runs/classify',\n",
    "    'name': 'yolov8_custom_cls',\n",
    "    'patience': 50,\n",
    "    'save': True,\n",
    "    'optimizer': 'Adam',\n",
    "    'lr0': 0.001,  # initial learning rate\n",
    "    'lrf': 0.01,  # final learning rate factor\n",
    "    'momentum': 0.9,\n",
    "    'weight_decay': 0.0005,\n",
    "    'warmup_epochs': 3.0,\n",
    "    'val': True,\n",
    "    'pretrained': True,  # use pretrained weights\n",
    "    'augment': True,  # use data augmentation\n",
    "}\n",
    "\n",
    "print(\"Classification training parameters:\")\n",
    "for key, value in training_params.items():\n",
    "    print(f\"  {key}: {value}\")"
   ]
  },
  {
   "cell_type": "code",
   "execution_count": null,
   "id": "7abd4906",
   "metadata": {},
   "outputs": [],
   "source": [
    "# Start training (uncomment to run)\n",
    "# results = model.train(**training_params)\n",
    "\n",
    "# Quick test with ImageNet subset (if available):\n",
    "# results = model.train(data='imagenette', epochs=5, imgsz=224, batch=16)\n",
    "\n",
    "print(\"Training ready. Uncomment the code above to begin.\")"
   ]
  },
  {
   "cell_type": "markdown",
   "id": "593a2183",
   "metadata": {},
   "source": [
    "## 4. Validate Classification Model\n",
    "\n",
    "Evaluate accuracy on validation set."
   ]
  },
  {
   "cell_type": "code",
   "execution_count": null,
   "id": "10759577",
   "metadata": {},
   "outputs": [],
   "source": [
    "# Validate the model\n",
    "# metrics = model.val()\n",
    "\n",
    "# print(\"\\nValidation Metrics:\")\n",
    "# print(f\"Top-1 Accuracy: {metrics.top1:.3f}\")\n",
    "# print(f\"Top-5 Accuracy: {metrics.top5:.3f}\")\n",
    "\n",
    "print(\"Validation ready. Uncomment after training.\")"
   ]
  },
  {
   "cell_type": "markdown",
   "id": "ac6fc33c",
   "metadata": {},
   "source": [
    "## 5. Test Classification\n",
    "\n",
    "Run inference on test images."
   ]
  },
  {
   "cell_type": "code",
   "execution_count": null,
   "id": "81ffb445",
   "metadata": {},
   "outputs": [],
   "source": [
    "# Classify an image\n",
    "# results = model.predict(\n",
    "#     source='path/to/image.jpg',\n",
    "#     show=True,\n",
    "#     save=True,\n",
    "# )\n",
    "\n",
    "# Get predictions\n",
    "# for result in results:\n",
    "#     probs = result.probs  # classification probabilities\n",
    "#     top1 = probs.top1  # top 1 class index\n",
    "#     top5 = probs.top5  # top 5 class indices\n",
    "#     top1conf = probs.top1conf  # top 1 confidence\n",
    "#     top5conf = probs.top5conf  # top 5 confidences\n",
    "#     \n",
    "#     print(f\"Top-1 Prediction: Class {top1} (Confidence: {top1conf:.3f})\")\n",
    "#     print(f\"Top-5 Predictions: {top5}\")\n",
    "#     print(f\"Top-5 Confidences: {top5conf}\")\n",
    "\n",
    "print(\"Inference ready. Uncomment to test.\")"
   ]
  },
  {
   "cell_type": "markdown",
   "id": "db76c8ea",
   "metadata": {},
   "source": [
    "## 6. Visualize Predictions\n",
    "\n",
    "Display images with predictions."
   ]
  },
  {
   "cell_type": "code",
   "execution_count": null,
   "id": "35759dd6",
   "metadata": {},
   "outputs": [],
   "source": [
    "# Visualize predictions on multiple images\n",
    "# def visualize_classification(image_path, model):\n",
    "#     # Load and predict\n",
    "#     results = model.predict(image_path)\n",
    "#     result = results[0]\n",
    "#     \n",
    "#     # Load image\n",
    "#     img = cv2.imread(image_path)\n",
    "#     img = cv2.cvtColor(img, cv2.COLOR_BGR2RGB)\n",
    "#     \n",
    "#     # Get predictions\n",
    "#     probs = result.probs\n",
    "#     names = model.names\n",
    "#     \n",
    "#     # Plot\n",
    "#     fig, (ax1, ax2) = plt.subplots(1, 2, figsize=(12, 5))\n",
    "#     \n",
    "#     # Show image\n",
    "#     ax1.imshow(img)\n",
    "#     ax1.set_title(f'Prediction: {names[probs.top1]}')\n",
    "#     ax1.axis('off')\n",
    "#     \n",
    "#     # Show top-5 probabilities\n",
    "#     top5_names = [names[i] for i in probs.top5]\n",
    "#     top5_conf = probs.top5conf.cpu().numpy()\n",
    "#     \n",
    "#     ax2.barh(top5_names, top5_conf)\n",
    "#     ax2.set_xlabel('Confidence')\n",
    "#     ax2.set_title('Top-5 Predictions')\n",
    "#     ax2.set_xlim(0, 1)\n",
    "#     \n",
    "#     plt.tight_layout()\n",
    "#     plt.show()\n",
    "\n",
    "# Example usage:\n",
    "# visualize_classification('path/to/image.jpg', model)\n",
    "\n",
    "print(\"Visualization function ready.\")"
   ]
  },
  {
   "cell_type": "markdown",
   "id": "485fcf9f",
   "metadata": {},
   "source": [
    "## 7. Export Classification Model\n",
    "\n",
    "Export to different formats."
   ]
  },
  {
   "cell_type": "code",
   "execution_count": null,
   "id": "c80edb18",
   "metadata": {},
   "outputs": [],
   "source": [
    "# Export to ONNX\n",
    "# onnx_model = model.export(format='onnx', dynamic=True, simplify=True)\n",
    "\n",
    "# Export to TensorRT\n",
    "# tensorrt_model = model.export(\n",
    "#     format='engine',\n",
    "#     device=0,\n",
    "#     half=True,\n",
    "#     imgsz=224,  # must match training size\n",
    "# )\n",
    "\n",
    "# Save to models directory\n",
    "# import shutil\n",
    "# tensorrt_dest = Path('../models/tensorrt/classification/')\n",
    "# tensorrt_dest.mkdir(parents=True, exist_ok=True)\n",
    "# shutil.copy(tensorrt_model, tensorrt_dest / 'yolov8s-cls.engine')\n",
    "\n",
    "print(\"Export ready. Uncomment after training.\")"
   ]
  },
  {
   "cell_type": "markdown",
   "id": "d0a95892",
   "metadata": {},
   "source": [
    "## 8. Confusion Matrix\n",
    "\n",
    "Visualize classification performance."
   ]
  },
  {
   "cell_type": "code",
   "execution_count": null,
   "id": "0b056771",
   "metadata": {},
   "outputs": [],
   "source": [
    "# Generate confusion matrix\n",
    "# from sklearn.metrics import confusion_matrix, classification_report\n",
    "# import seaborn as sns\n",
    "\n",
    "# def plot_confusion_matrix(val_dir, model):\n",
    "#     # Collect predictions\n",
    "#     y_true = []\n",
    "#     y_pred = []\n",
    "#     \n",
    "#     for class_idx, class_name in enumerate(model.names):\n",
    "#         class_dir = Path(val_dir) / class_name\n",
    "#         if not class_dir.exists():\n",
    "#             continue\n",
    "#             \n",
    "#         for img_path in class_dir.glob('*.jpg'):\n",
    "#             results = model.predict(str(img_path), verbose=False)\n",
    "#             pred_class = results[0].probs.top1\n",
    "#             \n",
    "#             y_true.append(class_idx)\n",
    "#             y_pred.append(pred_class)\n",
    "#     \n",
    "#     # Create confusion matrix\n",
    "#     cm = confusion_matrix(y_true, y_pred)\n",
    "#     \n",
    "#     # Plot\n",
    "#     plt.figure(figsize=(10, 8))\n",
    "#     sns.heatmap(cm, annot=True, fmt='d', cmap='Blues',\n",
    "#                 xticklabels=model.names,\n",
    "#                 yticklabels=model.names)\n",
    "#     plt.ylabel('True Label')\n",
    "#     plt.xlabel('Predicted Label')\n",
    "#     plt.title('Confusion Matrix')\n",
    "#     plt.tight_layout()\n",
    "#     plt.show()\n",
    "#     \n",
    "#     # Print classification report\n",
    "#     print(\"\\nClassification Report:\")\n",
    "#     print(classification_report(y_true, y_pred, target_names=model.names))\n",
    "\n",
    "# Example usage:\n",
    "# plot_confusion_matrix('path/to/dataset/val', model)\n",
    "\n",
    "print(\"Confusion matrix function ready.\")"
   ]
  },
  {
   "cell_type": "markdown",
   "id": "0d6f4b08",
   "metadata": {},
   "source": [
    "## Summary\n",
    "\n",
    "This notebook covers:\n",
    "1. ✅ Loading pre-trained YOLOv8 classification models\n",
    "2. ✅ Dataset preparation (folder structure)\n",
    "3. ✅ Training with custom classes\n",
    "4. ✅ Validation metrics (Top-1, Top-5 accuracy)\n",
    "5. ✅ Inference and prediction visualization\n",
    "6. ✅ Model export (ONNX, TensorRT)\n",
    "7. ✅ Confusion matrix and classification report\n",
    "\n",
    "### Next Steps\n",
    "- Organize your images into class folders\n",
    "- Adjust training parameters\n",
    "- Monitor accuracy metrics\n",
    "- Export and integrate with AppStore classification app"
   ]
  }
 ],
 "metadata": {
  "language_info": {
   "name": "python"
  }
 },
 "nbformat": 4,
 "nbformat_minor": 5
}
